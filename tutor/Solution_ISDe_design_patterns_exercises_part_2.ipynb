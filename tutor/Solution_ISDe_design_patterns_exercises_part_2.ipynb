{
  "nbformat": 4,
  "nbformat_minor": 0,
  "metadata": {
    "colab": {
      "provenance": []
    },
    "kernelspec": {
      "name": "python3",
      "display_name": "Python 3"
    },
    "language_info": {
      "name": "python"
    }
  },
  "cells": [
    {
      "cell_type": "markdown",
      "source": [
        "# Observer design pattern\n",
        "\n",
        "**Used for updating multiple subscribers of any changes that happen in the publisher.**\n",
        "\n",
        "Write a class Welcome that updates the mailing list, a telegram chat, and a slack chat of the creation of new users in a company.\n",
        "\n",
        "It has to work with the following main.\n"
      ],
      "metadata": {
        "id": "2a4aBoq4mnq3"
      }
    },
    {
      "cell_type": "code",
      "source": [
        "class CompanyUpdate:\n",
        "    def __init__(self, events):\n",
        "        self.subscribers = {event: dict() for event in events}\n",
        "    \n",
        "    def get_subscribers(self, event):\n",
        "        if event in self.subscribers:\n",
        "            return self.subscribers[event]\n",
        "        else:\n",
        "            raise ValueError\n",
        "\n",
        "    def register(self, event, subscriber, callback_fn=None):\n",
        "        default_method = 'update'\n",
        "\n",
        "        if callback_fn is None:\n",
        "            try:\n",
        "                callback_fn = getattr(subscriber, default_method)\n",
        "            except:\n",
        "                raise ValueError(\"Impossible to subscribe. The subscriber should provide \"\n",
        "                                 \"an update method or pass a callback.\")\n",
        "        self.get_subscribers(event)[subscriber] = callback_fn\n",
        "\n",
        "    def unregister(self, event, subscriber):\n",
        "        subscribers_for_event = self.get_subscribers(event)\n",
        "        if subscriber in subscribers_for_event:\n",
        "            del self.get_subscribers(event)[subscriber]\n",
        "\n",
        "    def dispatch(self, event, message):\n",
        "        print(\"Event\", event, \" - new message received\", message)\n",
        "        for subscriber, callback_fn in self.get_subscribers(event).items():\n",
        "            callback_fn(message)\n",
        "    \n",
        "class TelegramSubscriber:\n",
        "    def send_message(self, message):\n",
        "        print(\"Telegram received a message: \", message)\n",
        "\n",
        "class MailSubscriber:\n",
        "    def send_mail(self, message):\n",
        "        print(\"Email received a message: \", message)\n",
        "\n",
        "class DataBaseSubscriber:\n",
        "    def update(self, message):\n",
        "        print(\"Database received a message: \", message)\n",
        "\n",
        "\n",
        "class SlackSubscriber:\n",
        "    def send_message(self, message):\n",
        "        print(\"Slack received a message: \", message)"
      ],
      "metadata": {
        "id": "WPodaVB59nt8"
      },
      "execution_count": 4,
      "outputs": []
    },
    {
      "cell_type": "code",
      "source": [
        "company = CompanyUpdate(events=['new entry'])\n",
        "\n",
        "telegram = TelegramSubscriber()\n",
        "email = MailSubscriber()\n",
        "database = DataBaseSubscriber()\n",
        "\n",
        "# subscribe all to the event \"new entry\"\n",
        "company.register('new entry', telegram, telegram.send_message)\n",
        "company.register('new entry', email, email.send_mail)\n",
        "company.register('new entry', database)\n",
        "\n",
        "# send a message\n",
        "company.dispatch('new entry', message='Bob')\n",
        "\n",
        "# the company stops using telegram and starts using slack\n",
        "slack = SlackSubscriber()\n",
        "company.unregister('new entry', telegram)\n",
        "company.register('new entry', slack, slack.send_message)\n",
        "\n",
        "company.dispatch('new entry', 'Alice')"
      ],
      "metadata": {
        "id": "ayd7FsasnRJa",
        "colab": {
          "base_uri": "https://localhost:8080/"
        },
        "outputId": "768f463c-3938-44ee-e8a2-289a02e6a06e"
      },
      "execution_count": 5,
      "outputs": [
        {
          "output_type": "stream",
          "name": "stdout",
          "text": [
            "Event new entry  - new message received Bob\n",
            "Telegram received a message:  Bob\n",
            "Email received a message:  Bob\n",
            "Database received a message:  Bob\n",
            "Event new entry  - new message received Alice\n",
            "Email received a message:  Alice\n",
            "Database received a message:  Alice\n",
            "Slack received a message:  Alice\n"
          ]
        }
      ]
    },
    {
      "cell_type": "markdown",
      "source": [
        "# Singleton design pattern\n",
        "\n",
        "**Used for creating a single instance of an object across multiple parts of the code.**\n",
        "\n",
        "Create a singleton that handles a logger (with an attribute `name`) and returns it every time the class is used. Use a metaclass for implementing it.\n",
        "The method `log` should print the name of the logger (stored during the initialization of the class) and the message passed to the logger.\n",
        "\n",
        "It should work with the following main.\n",
        "\n"
      ],
      "metadata": {
        "id": "EyczTAHSmqBG"
      }
    },
    {
      "cell_type": "code",
      "source": [
        "class MetaSingleton(type):\n",
        "    _instances = {}\n",
        "\n",
        "    def __call__(cls, *args, **kwargs):\n",
        "        if cls not in cls._instances:\n",
        "            cls._instances[cls] = super(MetaSingleton, cls).__call__(*args, **kwargs)\n",
        "        return cls._instances[cls]\n",
        "\n",
        "class Logger(metaclass=MetaSingleton):\n",
        "    def __init__(self, name):\n",
        "        self.name = name\n",
        "        print(\"Logger created: \", self.name)\n",
        "\n",
        "    def log(self, message):\n",
        "        print(f\"{self.name}, message received: {message}\")    \n",
        "\n",
        "\n"
      ],
      "metadata": {
        "id": "-9CBwurMDvt1"
      },
      "execution_count": 6,
      "outputs": []
    },
    {
      "cell_type": "code",
      "source": [
        "logger1 = Logger(\"logger 1\")\n",
        "logger2 = Logger(\"logger 2\")\n",
        "\n",
        "logger2.log(\"message to logger 2\")"
      ],
      "metadata": {
        "id": "E91LLPB6n0bg",
        "colab": {
          "base_uri": "https://localhost:8080/"
        },
        "outputId": "1aac1386-c45f-4526-b7fc-d5cdc3814a0c"
      },
      "execution_count": 7,
      "outputs": [
        {
          "output_type": "stream",
          "name": "stdout",
          "text": [
            "Logger created:  logger 1\n",
            "logger 1, message received: message to logger 2\n"
          ]
        }
      ]
    },
    {
      "cell_type": "markdown",
      "source": [
        "# Factory design pattern\n",
        "\n",
        "**Used for separating creation from use.**\n",
        "\n",
        "Define a class Country that creates a class for speaking the language and a class for paying a specified amount as a currency of the country. \n",
        "Create the countries Italy, England, and USA.\n",
        "\n",
        "The script should work with the following main."
      ],
      "metadata": {
        "id": "F59Ey-lkms30"
      }
    },
    {
      "cell_type": "code",
      "source": [
        "from abc import ABC, abstractmethod\n",
        "\n",
        "class Country(ABC):\n",
        "    @abstractmethod\n",
        "    def get_language(self):\n",
        "        pass\n",
        "\n",
        "    @abstractmethod\n",
        "    def get_currency(self):\n",
        "        pass\n",
        "\n",
        "class Language(ABC):\n",
        "    @abstractmethod\n",
        "    def speak(self):\n",
        "        pass\n",
        "\n",
        "class Currency(ABC):\n",
        "    @abstractmethod\n",
        "    def pay(self):\n",
        "        pass\n",
        "\n",
        "class Italian(Language):\n",
        "    def speak(self):\n",
        "        print(\"Io parlo Italiano.\")\n",
        "\n",
        "class Euro(Currency):\n",
        "    def pay(self, amount):\n",
        "        print(f\"I payed {amount} euros.\")\n",
        "\n",
        "class English(Language):\n",
        "    def speak(self):\n",
        "        print(\"I speak English.\")\n",
        "\n",
        "class Pound(Currency):\n",
        "    def pay(self, amount):\n",
        "        print(f\"I payed {amount} pounds.\")\n",
        "\n",
        "class Dollar(Currency):\n",
        "    def pay(self, amount):\n",
        "        print(f\"I payed {amount} dollars.\")\n",
        "\n",
        "class Italy(Country):\n",
        "    def get_language(self):\n",
        "        return Italian()\n",
        "    \n",
        "    def get_currency(self):\n",
        "        return Euro()\n",
        "\n",
        "class England(Country):\n",
        "    def get_language(self):\n",
        "        return English()\n",
        "    \n",
        "    def get_currency(self):\n",
        "        return Pound()\n",
        "\n",
        "class USA(Country):\n",
        "    def get_language(self):\n",
        "        return English()\n",
        "    \n",
        "    def get_currency(self):\n",
        "        return Dollar()"
      ],
      "metadata": {
        "id": "hkoRapurGEZV"
      },
      "execution_count": 8,
      "outputs": []
    },
    {
      "cell_type": "code",
      "source": [
        "for factory in [Italy(), England(), USA()]:\n",
        "    # retrieve the language and currency\n",
        "    language = factory.get_language()\n",
        "    currency = factory.get_currency()\n",
        "\n",
        "    language.speak()\n",
        "    currency.pay(20)\n"
      ],
      "metadata": {
        "id": "q2E-SaL8mX8Y",
        "colab": {
          "base_uri": "https://localhost:8080/"
        },
        "outputId": "6cc88fd9-8a28-4808-c12c-508f36363d4a"
      },
      "execution_count": 9,
      "outputs": [
        {
          "output_type": "stream",
          "name": "stdout",
          "text": [
            "Io parlo Italiano.\n",
            "I payed 20 euros.\n",
            "I speak English.\n",
            "I payed 20 pounds.\n",
            "I speak English.\n",
            "I payed 20 dollars.\n"
          ]
        }
      ]
    },
    {
      "cell_type": "markdown",
      "source": [
        "# Miscellaneous exercises (these are really evil)"
      ],
      "metadata": {
        "id": "-R_OM7GM7OYc"
      }
    },
    {
      "cell_type": "markdown",
      "source": [
        "## Observer + Strategy\n",
        "\n",
        "Use the observer pattern to model a system where your observers can subscribe to stocks in a stock market and make buy/sell decisions based on changes in the stock price. \n",
        "\n",
        "In particular, implement a strategy SellOnIncrease and a strategy BuyOnDecrease that the subscribers use for deciding their actions.\n",
        "If the stock value changes and they decide to buy/sell, they remove/add the change amount from/to their wallet.\n",
        "\n",
        "For example, if Jack (buy on decrease strategy) is subscribed to the Spotify stocks and the stock value decreases of 10 \\$, Jack buys 10 \\$ of that stock.\n",
        "\n",
        "\n",
        "Here is the main."
      ],
      "metadata": {
        "id": "2ccz6Ww5TrDD"
      }
    },
    {
      "cell_type": "code",
      "source": [
        "class StockUpdate:\n",
        "    def __init__(self, events):\n",
        "        self.subscribers = {event: dict() for event in events}\n",
        "    \n",
        "    def get_subscribers(self, event):\n",
        "        return self.subscribers.get(event, None)\n",
        "\n",
        "    def register(self, event, subscriber, callback_fn=None):\n",
        "        default_method = 'update'\n",
        "\n",
        "        if callback_fn is None:\n",
        "            try:\n",
        "                callback_fn = getattr(subscriber, default_method)\n",
        "            except:\n",
        "                raise ValueError(\"Impossible to subscribe. The subscriber should provide \"\n",
        "                                 \"an update method or pass a callback.\")\n",
        "        self.get_subscribers(event)[subscriber] = callback_fn\n",
        "    \n",
        "    def unregister(self, event, subscriber):\n",
        "        subscribers_for_event = self.get_subscribers(event)\n",
        "        if subscribers_for_event is not None and subscriber in subscribers_for_event:\n",
        "            del self.get_subscribers(event)[subscriber]\n",
        "    \n",
        "    def dispatch(self, event, message):\n",
        "        print(event, message)\n",
        "        for subscriber, callback_fn in self.get_subscribers(event).items():\n",
        "            callback_fn(message)\n",
        "\n",
        "class StockSubscriber:\n",
        "    def __init__(self, name, strategy):\n",
        "        self.name = name\n",
        "        self.strategy = strategy\n",
        "        self.budget = 100\n",
        "\n",
        "    def update(self, change):\n",
        "        self.budget += self.strategy.action(change)\n",
        "        print(self.name, \"budget:\", self.budget)\n",
        "\n",
        "class StockStrategy(ABC):\n",
        "    @abstractmethod\n",
        "    def action(self, change):\n",
        "        pass\n",
        "\n",
        "class BuyOnDecreaseStrategy(StockStrategy):\n",
        "    def action(self, change):\n",
        "        if change < 0:\n",
        "            return change\n",
        "        else:\n",
        "            return 0\n",
        "\n",
        "\n",
        "class SellOnIncreaseStrategy(StockStrategy):\n",
        "    def action(self, change):\n",
        "        if change > 0:\n",
        "            return change\n",
        "        else:\n",
        "            return 0"
      ],
      "metadata": {
        "id": "k5L5y2M0KQ4l"
      },
      "execution_count": 10,
      "outputs": []
    },
    {
      "cell_type": "code",
      "source": [
        "\n",
        "stock_market = StockUpdate(events=[\"spotify\", \"apple\"])\n",
        "\n",
        "\n",
        "jack = StockSubscriber(\"jack\", BuyOnDecreaseStrategy())\n",
        "nick = StockSubscriber(\"nick\", BuyOnDecreaseStrategy())\n",
        "kevin = StockSubscriber(\"kevin\", SellOnIncreaseStrategy())\n",
        "wendy = StockSubscriber(\"wendy\", SellOnIncreaseStrategy())\n",
        "alice = StockSubscriber(\"alice\", SellOnIncreaseStrategy())\n",
        "\n",
        "for investor in [jack, nick, kevin, wendy, alice]:\n",
        "    stock_market.register(\"spotify\", investor)\n",
        "\n",
        "for investor in [jack, wendy, alice]:\n",
        "    stock_market.register(\"apple\", investor)\n",
        "\n",
        "# price change\n",
        "stock_market.dispatch(\"spotify\", 30)\n",
        "stock_market.dispatch(\"spotify\", -10)\n",
        "stock_market.dispatch(\"apple\", -40)\n",
        "\n",
        "stock_market.unregister(\"spotify\", kevin)\n",
        "stock_market.dispatch(\"spotify\", -10)"
      ],
      "metadata": {
        "id": "1NUN-IVZ1LuZ",
        "colab": {
          "base_uri": "https://localhost:8080/"
        },
        "outputId": "f324fe3a-fd3e-4819-9972-862fa3263d6e"
      },
      "execution_count": 11,
      "outputs": [
        {
          "output_type": "stream",
          "name": "stdout",
          "text": [
            "spotify 30\n",
            "jack budget: 100\n",
            "nick budget: 100\n",
            "kevin budget: 130\n",
            "wendy budget: 130\n",
            "alice budget: 130\n",
            "spotify -10\n",
            "jack budget: 90\n",
            "nick budget: 90\n",
            "kevin budget: 130\n",
            "wendy budget: 130\n",
            "alice budget: 130\n",
            "apple -40\n",
            "jack budget: 50\n",
            "wendy budget: 130\n",
            "alice budget: 130\n",
            "spotify -10\n",
            "jack budget: 40\n",
            "nick budget: 80\n",
            "wendy budget: 130\n",
            "alice budget: 130\n"
          ]
        }
      ]
    },
    {
      "cell_type": "markdown",
      "source": [
        "## State + Strategy\n",
        "\n",
        "Draw and implement using the state pattern the following state machine `Traveler` for modeling flights between the four cities.\n",
        "\n",
        "| | Cagliari | Rome | Milan| Paris|\n",
        "|---| --- | ---| ---| ---|\n",
        "|Cagliari| - | 30 €, 45 minutes | 40 €, 60 minutes | - | \n",
        "|Rome| 30 €, 45 minutes | - | 20 €, 30 minutes | 150 €, 100 minutes | \n",
        "|Milan| 40 €, 60 minutes | 20 €, 30 minutes | - | 50 €, 100 minutes | \n",
        "|Paris| - | 50 €, 100 minutes | 50 €, 100 minutes | - | \n",
        "\n",
        "Starting from the previous code, write the class planner, that given a list of routes e.g., `[[\"Cagliari\", \"Rome\", \"Paris\"], [\"Cagliari\", \"Milan\", \"Paris\"]]` finds the cheapest route and the shortest (in minutes) route if the route is valid (i.e., if it ends in the desired destination). \n",
        "\n"
      ],
      "metadata": {
        "id": "tLz3WFGATrVq"
      }
    },
    {
      "cell_type": "code",
      "source": [
        "class Cities:\n",
        "    \"\"\"Utility class for storing the city names as strings.\"\"\"\n",
        "    Cagliari = \"Cagliari\"\n",
        "    Rome = \"Rome\"\n",
        "    Milan = \"Milan\"\n",
        "    Paris = \"Paris\"\n",
        "\n",
        "class CityState(ABC):\n",
        "\n",
        "    def _travel(self, city, traveler):\n",
        "        self._action(city, traveler)\n",
        "        self._change_state(city, traveler)\n",
        "        \n",
        "    \n",
        "    def _action(self, city, traveler):\n",
        "        if city in self._destinations:\n",
        "            print(f\"Traveling to {city}\")\n",
        "            price, duration = self._destinations[city]\n",
        "            traveler.price_payed += price\n",
        "            traveler.time_traveled += duration\n",
        "        else:\n",
        "            print(f\"Destination {city} is not available from here. Not traveling.\")\n",
        "\n",
        "    def _change_state(self, city, traveler):\n",
        "        if city in self._destinations:\n",
        "            traveler.set_state(states[city])\n",
        "    \n",
        "class Cagliari(CityState):\n",
        "    _destinations = {\n",
        "            Cities.Rome: [30, 45],\n",
        "            Cities.Milan:  [40, 60],\n",
        "            }\n",
        "    name = Cities.Cagliari\n",
        "\n",
        "class Rome(CityState):\n",
        "    _destinations = {\n",
        "        Cities.Cagliari: [30, 45],\n",
        "        Cities.Milan: [20, 30],\n",
        "        Cities.Paris: [150, 100],\n",
        "    }\n",
        "    name = Cities.Rome\n",
        "\n",
        "class Milan(CityState):\n",
        "    _destinations = {\n",
        "        Cities.Cagliari: [40, 60],\n",
        "        Cities.Rome: [20, 30],\n",
        "        Cities.Paris: [50, 100]\n",
        "    }\n",
        "    name = Cities.Milan\n",
        "\n",
        "class Paris(CityState):\n",
        "    _destinations = {\n",
        "        Cities.Rome: [50, 100],\n",
        "        Cities.Milan: [50, 100]\n",
        "    }\n",
        "    name = Cities.Paris\n",
        "\n",
        "states = {Cities.Cagliari: Cagliari(),\n",
        "          Cities.Rome: Rome(),\n",
        "          Cities.Milan: Milan(),\n",
        "          Cities.Paris: Paris()\n",
        "          }\n",
        "\n",
        "class Traveler:\n",
        "    def __init__(self, name):\n",
        "        self.name = name\n",
        "        self.state = Cagliari()\n",
        "        self.price_payed = 0\n",
        "        self.time_traveled = 0\n",
        "\n",
        "    def travel(self, city):\n",
        "        self.state._travel(city, self)\n",
        "    \n",
        "    def set_state(self, new_state):\n",
        "        self.state = new_state\n",
        "\n",
        "\n",
        "class Planner:\n",
        "    def __init__(self, strategy):\n",
        "        self.strategy = strategy\n",
        "\n",
        "    def choose_route(self, routes):\n",
        "        best_route = self.strategy.choose_route(routes)\n",
        "        print(f\"{self.strategy}, best route: {best_route}\")\n",
        "\n",
        "class Strategy(ABC):\n",
        "    @staticmethod\n",
        "    @abstractmethod\n",
        "    def choose_route(routes):\n",
        "        pass\n",
        "\n",
        "class CheapStrategy(Strategy):\n",
        "    def choose_route(routes):\n",
        "        best_route = 0  # will store the index of the best route\n",
        "        best_price = 20000  # will store the best price\n",
        "        for i, route in enumerate(routes):\n",
        "            t = Traveler(\"Cheap Traveler\")\n",
        "            for destination in route:\n",
        "                t.travel(destination)\n",
        "            \n",
        "            if t.state.name == route[-1]:\n",
        "                if t.price_payed < best_price:\n",
        "                    best_price = t.price_payed\n",
        "                    best_route = i\n",
        "        return routes[best_route]\n",
        "\n",
        "class FastStrategy(Strategy):\n",
        "    def choose_route(routes):\n",
        "        best_route = 0  # will store the index of the best route\n",
        "        best_duration = 20000  # will store the lowest duration\n",
        "\n",
        "        for i, route in enumerate(routes):\n",
        "            t = Traveler(\"Fast Traveler\")\n",
        "            for destination in route:\n",
        "                t.travel(destination)\n",
        "            \n",
        "            if t.state.name == route[-1]:\n",
        "                if t.time_traveled < best_duration:\n",
        "                    best_duration = t.time_traveled\n",
        "                    best_route = i\n",
        "        return routes[best_route]"
      ],
      "metadata": {
        "id": "Ctf11xYhPjWi"
      },
      "execution_count": 30,
      "outputs": []
    },
    {
      "cell_type": "code",
      "source": [
        "# first part\n",
        "\n",
        "\n",
        "t = Traveler(\"Tom\")\n",
        "t.travel(Cities.Paris)\n",
        "t.travel(Cities.Rome)\n",
        "t.travel(Cities.Milan)\n",
        "t.travel(Cities.Paris)\n",
        "t.travel(Cities.Cagliari)\n",
        "\n",
        "# second part\n",
        "\n",
        "print(\"\\n\\n\")\n",
        "\n",
        "route_1 = [Cities.Rome, Cities.Paris]\n",
        "route_2 = [Cities.Milan, Cities.Paris]\n",
        "route_3 = [Cities.Paris]\n",
        "routes = [route_1, route_2, route_3]\n",
        "\n",
        "cheap_planner = Planner(CheapStrategy)\n",
        "cheap_planner.choose_route(routes)\n",
        "\n",
        "fast_planner = Planner(FastStrategy)\n",
        "fast_planner.choose_route(routes)\n"
      ],
      "metadata": {
        "id": "sUvSCE0eDS4c",
        "colab": {
          "base_uri": "https://localhost:8080/"
        },
        "outputId": "129dd7b6-11ff-4e0d-88ca-b7b5f3c9a4f3"
      },
      "execution_count": 31,
      "outputs": [
        {
          "output_type": "stream",
          "name": "stdout",
          "text": [
            "Destination Paris is not available from here. Not traveling.\n",
            "Traveling to Rome\n",
            "Traveling to Milan\n",
            "Traveling to Paris\n",
            "Destination Cagliari is not available from here. Not traveling.\n",
            "\n",
            "\n",
            "\n",
            "Traveling to Rome\n",
            "Traveling to Paris\n",
            "Traveling to Milan\n",
            "Traveling to Paris\n",
            "Destination Paris is not available from here. Not traveling.\n",
            "<class '__main__.CheapStrategy'>, best route: ['Milan', 'Paris']\n",
            "Traveling to Rome\n",
            "Traveling to Paris\n",
            "Traveling to Milan\n",
            "Traveling to Paris\n",
            "Destination Paris is not available from here. Not traveling.\n",
            "<class '__main__.FastStrategy'>, best route: ['Rome', 'Paris']\n"
          ]
        }
      ]
    },
    {
      "cell_type": "markdown",
      "source": [
        "## Double dispatch (Visitor) with multiple visitors + (optional) Factory\n",
        "Write a class Car that contains a list of parts (e.g., FrontLeftWheel, FrontRightWheel, RearLeftWheel, RearRightWheel, Engine). The parts are implemented with the double dispatch method. They have the attributes `name` and `price` and a method `accept` that takes a visitor as argument (the car also has a method `accept` that calls the `accept` method of the parts. Then implement two visitor classes, one that prints the part names, and one that prints the sum of the prices. \n",
        "\n",
        "Extra: you can implement different cars with factories that create different cars with different sets of parts (e.g., CheapWheels, FancyWheels, PowerfulEngine, CheapEngine etc.). Have fun 😈"
      ],
      "metadata": {
        "id": "zDy6KhraTneV"
      }
    },
    {
      "cell_type": "code",
      "source": [
        "class AbstractCarPart(ABC):\n",
        "    def __init__(self, name, price):\n",
        "        self.name = name\n",
        "        self.price = price\n",
        "\n",
        "    def accept(self, visitor):\n",
        "        visitor.visit(self)\n",
        "\n",
        "class Wheel(AbstractCarPart):\n",
        "    pass\n",
        "\n",
        "class Engine(AbstractCarPart):\n",
        "    pass\n",
        "\n",
        "class Seats(AbstractCarPart):\n",
        "    pass\n",
        "\n",
        "class Car:\n",
        "    def __init__(self, name):\n",
        "        self.name = name\n",
        "\n",
        "        self._parts = [\n",
        "            Wheel(\"front_left_wheel\", 30),\n",
        "            Wheel(\"front_right_wheel\", 30),\n",
        "            Wheel(\"rear_left_wheel\", 30),\n",
        "            Wheel(\"rear_right_wheel\", 30),\n",
        "            Engine(\"ferrari_engine\", 1000),\n",
        "            Seats(\"ferrari_seats\", 200)\n",
        "        ]\n",
        "    \n",
        "    def accept(self, visitor):\n",
        "        for part in self._parts:\n",
        "            part.accept(visitor)\n",
        "    \n",
        "\n",
        "class PrintPartsVisitor:\n",
        "    @staticmethod\n",
        "    def visit(part):\n",
        "        print(f\"Element: {part.name}\")\n",
        "\n",
        "class TotalPriceVisitor:\n",
        "    total_price = 0\n",
        "\n",
        "    def visit(self, part):\n",
        "        self.total_price += part.price\n",
        "        return self.total_price\n"
      ],
      "metadata": {
        "id": "sl0hoFoNfQoP"
      },
      "execution_count": 34,
      "outputs": []
    },
    {
      "cell_type": "code",
      "source": [
        "car = Car(\"Ferrari\")\n",
        "# print out the part names using the PrintPartsVisitor\n",
        "car.accept(PrintPartsVisitor())\n",
        "\n",
        "# calculate the total price of the parts using the TotalPriceVisitor\n",
        "total_visitor = TotalPriceVisitor()\n",
        "car.accept(total_visitor)\n",
        "print(f\"Total Price = {total_visitor.total_price}\")"
      ],
      "metadata": {
        "id": "TdoiV2brTjwo",
        "colab": {
          "base_uri": "https://localhost:8080/"
        },
        "outputId": "8173fba3-17a8-4ff8-d3d4-f25610d588ce"
      },
      "execution_count": 35,
      "outputs": [
        {
          "output_type": "stream",
          "name": "stdout",
          "text": [
            "Element: front_left_wheel\n",
            "Element: front_right_wheel\n",
            "Element: rear_left_wheel\n",
            "Element: rear_right_wheel\n",
            "Element: ferrari_engine\n",
            "Element: ferrari_seats\n",
            "Total Price = 1320\n"
          ]
        }
      ]
    }
  ]
}