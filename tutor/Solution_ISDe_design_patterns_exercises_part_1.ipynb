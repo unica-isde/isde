{
  "nbformat": 4,
  "nbformat_minor": 0,
  "metadata": {
    "colab": {
      "provenance": []
    },
    "kernelspec": {
      "name": "python3",
      "display_name": "Python 3"
    },
    "language_info": {
      "name": "python"
    }
  },
  "cells": [
    {
      "cell_type": "markdown",
      "source": [
        "# Dispatch design pattern\n",
        "\n",
        "**Used for regulating *interactions* between objects.**\n",
        "\n",
        "Create a mini game with three types of Heroes: Dwarf, Elf and Human. Now create a class Fight that allows them to interact with the class Monster.\n",
        "\n",
        "The Heroes hit differently the monsters, according to this table.\n",
        "\n",
        "| | Troll | Giant |\n",
        "|---|---|---|\n",
        "| Dwarf | 6 | 6 |\n",
        "| Elf | 3 | 1 |\n",
        "| Human | 3 | 3 |\n",
        "\n",
        "Now add the class Bat (Monster) that is hit by them in this way:\n",
        "\n",
        "| | Bat | \n",
        "|---|---|\n",
        "| Dwarf | 0 |\n",
        "| Elf | 0 |\n",
        "| Human | 3 |\n",
        "\n",
        "With the double dispatch method it is easy to add a new monster without changing the Hero interface.\n",
        "\n",
        "Now let's make it work with the following main code."
      ],
      "metadata": {
        "id": "RTP6mmd5mU84"
      }
    },
    {
      "cell_type": "code",
      "source": [
        "from abc import ABC, abstractmethod\n",
        "\n",
        "class Hero(ABC):\n",
        "    @abstractmethod\n",
        "    def fight_against(self, monster):\n",
        "        pass \n",
        "\n",
        "class Dwarf(Hero):\n",
        "    def fight_against(self, monster):\n",
        "        monster._fight_against_dwarf()\n",
        "\n",
        "class Elf(Hero):\n",
        "    def fight_against(self, monster):\n",
        "        monster._fight_against_elf()\n",
        "\n",
        "class Human(Hero):\n",
        "    def fight_against(self, monster):\n",
        "        monster._fight_against_human()\n"
      ],
      "metadata": {
        "id": "h7xXNrBeXU01"
      },
      "execution_count": 5,
      "outputs": []
    },
    {
      "cell_type": "code",
      "source": [
        "class Monster(ABC):\n",
        "    @abstractmethod\n",
        "    def _fight_against_dwarf(self):\n",
        "        pass\n",
        "    \n",
        "    @abstractmethod\n",
        "    def _fight_against_elf(self):\n",
        "        pass\n",
        "\n",
        "    @abstractmethod\n",
        "    def _fight_against_human(self):\n",
        "        pass\n",
        "\n",
        "\n",
        "class Troll(Monster):\n",
        "    def _fight_against_dwarf(self):\n",
        "        print(\"Dwarf hits Troll with 6 HP.\")\n",
        "    \n",
        "    def _fight_against_elf(self):\n",
        "        print(\"Elf hits Troll with 3 HP.\")\n",
        "\n",
        "    def _fight_against_human(self):\n",
        "        print(\"Human hits Troll with 3 HP.\")\n",
        "\n",
        "\n",
        "class Giant(Monster):\n",
        "    def _fight_against_dwarf(self):\n",
        "        print(\"Dwarf hits Giant with 6 HP.\")\n",
        "    \n",
        "    def _fight_against_elf(self):\n",
        "        print(\"Elf hits Giant with 1 HP.\")\n",
        "\n",
        "    def _fight_against_human(self):\n",
        "        print(\"Human hits Giant with 3 HP.\")\n",
        "\n",
        "\n",
        "class Bat(Monster):\n",
        "    def _fight_against_dwarf(self):\n",
        "        print(\"Dwarf hits Bat with 0 HP.\")\n",
        "    \n",
        "    def _fight_against_elf(self):\n",
        "        print(\"Elf hits Bat with 0 HP.\")\n",
        "\n",
        "    def _fight_against_human(self):\n",
        "        print(\"Human hits Bat with 3 HP.\")\n"
      ],
      "metadata": {
        "id": "qrx9PLeXZr80"
      },
      "execution_count": 10,
      "outputs": []
    },
    {
      "cell_type": "code",
      "source": [
        "d = Dwarf()\n",
        "e = Elf()\n",
        "h = Human()\n",
        "\n",
        "t = Troll()\n",
        "g = Giant()\n",
        "b = Bat()\n",
        "\n",
        "d.fight_against(b)\n",
        "e.fight_against(g)\n",
        "h.fight_against(t)"
      ],
      "metadata": {
        "id": "2L99usqRm2Uq",
        "colab": {
          "base_uri": "https://localhost:8080/"
        },
        "outputId": "f674e9b9-a4e0-46ba-f542-ea3d21509608"
      },
      "execution_count": 11,
      "outputs": [
        {
          "output_type": "stream",
          "name": "stdout",
          "text": [
            "Dwarf hits Bat with 0 HP.\n",
            "Elf hits Giant with 1 HP.\n",
            "Human hits Troll with 3 HP.\n"
          ]
        }
      ]
    },
    {
      "cell_type": "markdown",
      "source": [
        "# Strategy design pattern\n",
        "\n",
        "**Used to make a class behave differently depending on the situation.**\n",
        "\n",
        "Create a class Queue that handles a queue of strings that are passed to it and prints them according to different strategies. Use an abstract class ProcessingStrategy that can be used as a base for the following strategies:\n",
        "\n",
        "* FIFO: the first element that was added is the first to be printed.\n",
        "* LIFO: the last element that was added is the first to be printed.\n",
        "* RANDOM: prints an element without caring who arrived first.\n",
        "\n",
        "Now create a new strategy that handles the queue by printing the strings in alphabetical order.\n",
        "\n",
        "Now let's make it work with the following main code.\n",
        "\n",
        "Extra exercise: you can implement it also using functions rather than classes.\n"
      ],
      "metadata": {
        "id": "aXOwgiqImeg-"
      }
    },
    {
      "cell_type": "code",
      "source": [
        "class Queue:\n",
        "    def __init__(self, strategy):\n",
        "        self.strategy = strategy\n",
        "        self.queue = []\n",
        "\n",
        "    def add_item(self, message):\n",
        "        self.queue.append(message)\n",
        "    \n",
        "    def process(self):\n",
        "        if len(self.queue) > 0:\n",
        "            # returns the index of the next element to process\n",
        "            next_item_index = self.strategy._process(self.queue)\n",
        "            \n",
        "            # item = self.queue[next_item_index]\n",
        "            # del self.queue[next_item_index]\n",
        "            item = self.queue.pop(next_item_index)\n",
        "            print(item)\n",
        "        else:\n",
        "            print(\"no items in the queue!\")\n",
        "\n",
        "\n",
        "class Strategy(ABC):\n",
        "    @abstractmethod\n",
        "    def _process(self, queue):\n",
        "        \"\"\"Returns the index of the next element to process.\"\"\"\n",
        "        pass\n",
        "\n",
        "class FIFOStrategy(Strategy):\n",
        "    def _process(self, queue):\n",
        "        return 0\n",
        "        \n",
        "class LIFOStrategy(Strategy):\n",
        "    def _process(self, queue):\n",
        "        return -1\n",
        "\n",
        "import random\n",
        "class RandomStrategy(Strategy):\n",
        "    def _process(self, queue):\n",
        "        indexes = list(range(len(queue)))\n",
        "\n",
        "        # gives me a random index\n",
        "        return random.choice(indexes)\n"
      ],
      "metadata": {
        "id": "g0DFIDTyeYmK"
      },
      "execution_count": 13,
      "outputs": []
    },
    {
      "cell_type": "code",
      "source": [
        "q = Queue(strategy=RandomStrategy())\n",
        "\n",
        "q.add_item(\"first item\")\n",
        "q.add_item(\"second item\")\n",
        "q.add_item(\"third item\")\n",
        "\n",
        "for _ in range(3):\n",
        "    q.process()"
      ],
      "metadata": {
        "id": "RXDGGvCim_KK",
        "colab": {
          "base_uri": "https://localhost:8080/"
        },
        "outputId": "494b9842-b306-4c81-e7d8-86c99bf88050"
      },
      "execution_count": 16,
      "outputs": [
        {
          "output_type": "stream",
          "name": "stdout",
          "text": [
            "third item\n",
            "first item\n",
            "second item\n"
          ]
        }
      ]
    },
    {
      "cell_type": "markdown",
      "source": [
        "\n",
        "\n",
        "# State design pattern\n",
        "\n",
        "**Decides behavior of an object depending of its internal state.**\n",
        "\n",
        " Implement a class State that manages the HTTP response code depending on whether a webpage is loaded.\n",
        "\n",
        "The function has to return the status code depending on the state of the page and the received request.\n",
        "\n",
        "The pages can be created (CREATE), requested (GET), updated (UPDATE), or deleted (DELETE).\n",
        "\n",
        "Draw the state machine and create a class that implements the state machine.\n",
        "\n",
        "It should work with the following main.\n"
      ],
      "metadata": {
        "id": "FevlvbW8mfSK"
      }
    },
    {
      "cell_type": "code",
      "source": [
        "class ProcessRequest:\n",
        "    def __init__(self, page_name):\n",
        "        self.page_name = page_name\n",
        "        self.state = StateExisting()\n",
        "    \n",
        "    def process_input(self, request):\n",
        "        self.state._process_input(self, request)\n",
        "    \n",
        "    def _set_state(self, new_state):\n",
        "        self.state = new_state\n",
        "\n",
        "class HTTPState(ABC):\n",
        "    def _process_input(self, page, request):\n",
        "        self._action(page, request)\n",
        "        self._change_state(page, request)\n",
        "\n",
        "    @abstractmethod\n",
        "    def _action(self, page, request):\n",
        "        pass\n",
        "\n",
        "    @abstractmethod\n",
        "    def _change_state(self, page, request):\n",
        "        pass\n",
        "\n",
        "class StateExisting(HTTPState):\n",
        "    def _action(self, page, request):\n",
        "        responses = {\n",
        "            \"GET\": [page.page_name, \"get\", 200],\n",
        "            \"UPDATE\": [page.page_name, \"update\", 200],\n",
        "            \"DELETE\": [page.page_name, \"delete\", 200],\n",
        "            \"CREATE\": [page.page_name, \"create\", 400],\n",
        "        }\n",
        "        if request not in responses:\n",
        "            print(\"Request not allowed.\")\n",
        "        print(responses[request])\n",
        "\n",
        "    def _change_state(self, page, request):\n",
        "        if request == \"DELETE\":\n",
        "            page._set_state(StateNotExisting())\n",
        "\n",
        "class StateNotExisting(HTTPState):\n",
        "    def _action(self, page, request):\n",
        "        responses = {\n",
        "            \"GET\": [page.page_name, \"get\", 404],\n",
        "            \"UPDATE\": [page.page_name, \"update\", 404],\n",
        "            \"DELETE\": [page.page_name, \"delete\", 400],\n",
        "            \"CREATE\": [page.page_name, \"create\", 202],\n",
        "        }\n",
        "        if request not in responses:\n",
        "            print(\"Request not allowed.\")\n",
        "        else:\n",
        "            print(responses[request])\n",
        "\n",
        "    def _change_state(self, page, request):\n",
        "        if request == \"CREATE\":\n",
        "            page._set_state(StateExisting())\n",
        "\n"
      ],
      "metadata": {
        "id": "SNVBG2z-oGve"
      },
      "execution_count": 20,
      "outputs": []
    },
    {
      "cell_type": "code",
      "source": [
        "server = ProcessRequest('home')  # creates a page named \"home\"\n",
        "server.process_input('GET')  # get the page, 200\n",
        "server.process_input('UPDATE')  # update the page, 200\n",
        "server.process_input('DELETE')  # delete the page, 200 --> transition to StateNotExisting\n",
        "server.process_input('GET')  # not existing, 404\n",
        "server.process_input(\"POST\")  # request not allowed\n",
        "server.process_input('CREATE')  # create the page, 202 --> transition to StateExisting\n",
        "server.process_input('GET')  # get the page, 200"
      ],
      "metadata": {
        "id": "L6EcSfbEnLhz",
        "colab": {
          "base_uri": "https://localhost:8080/"
        },
        "outputId": "c4783aee-7b51-41ed-e7a9-b48cac179353"
      },
      "execution_count": 21,
      "outputs": [
        {
          "output_type": "stream",
          "name": "stdout",
          "text": [
            "['home', 'get', 200]\n",
            "['home', 'update', 200]\n",
            "['home', 'delete', 200]\n",
            "['home', 'get', 404]\n",
            "Request not allowed.\n",
            "['home', 'create', 202]\n",
            "['home', 'get', 200]\n"
          ]
        }
      ]
    },
    {
      "cell_type": "markdown",
      "source": [
        "# Observer design pattern\n",
        "\n",
        "**Used for updating multiple subscribers of any changes that happen in the publisher.**\n",
        "\n",
        "Write a class Welcome that updates the mailing list, a telegram chat, and a slack chat of the creation of new users in a company.\n",
        "\n",
        "It has to work with the following main.\n"
      ],
      "metadata": {
        "id": "2a4aBoq4mnq3"
      }
    },
    {
      "cell_type": "code",
      "source": [
        "company = CompanyUpdate(events=['new entry'])\n",
        "\n",
        "telegram = TelegramSubscriber()\n",
        "email = MailSubscriber()\n",
        "database = DataBaseSubscriber()\n",
        "\n",
        "# subscribe all to the event \"new entry\"\n",
        "company.register('new entry', telegram, telegram.send_message)\n",
        "company.register('new entry', email, email.send_mail)\n",
        "company.register('new entry', database)\n",
        "\n",
        "# send a message\n",
        "company.dispatch('new entry', 'Bob')\n",
        "\n",
        "# the company stops using telegram and starts using slack\n",
        "slack = SlackSubscriber()\n",
        "company.unregister('new entry', telegram)\n",
        "company.register('new entry', slack, slack.send_message)\n",
        "\n",
        "company.dispatch('new entry', 'Alice')"
      ],
      "metadata": {
        "id": "ayd7FsasnRJa"
      },
      "execution_count": null,
      "outputs": []
    },
    {
      "cell_type": "markdown",
      "source": [
        "# Singleton design pattern\n",
        "\n",
        "**Used for creating a single instance of an object across multiple parts of the code.**\n",
        "\n",
        "Create a singleton that handles a logger (with an attribute `name``) and returns it every time the class is used. Use a metaclass for implementing it.\n",
        "The method `log` should print the name of the logger (stored during the initialization of the class) and the message passed to the logger.\n",
        "\n",
        "It should work with the following main.\n",
        "\n"
      ],
      "metadata": {
        "id": "EyczTAHSmqBG"
      }
    },
    {
      "cell_type": "code",
      "source": [
        "logger1 = Logger(\"logger 1\")\n",
        "logger2 = Logger(\"logger 2\")\n",
        "\n",
        "logger2.log(\"message to logger 2\")"
      ],
      "metadata": {
        "id": "E91LLPB6n0bg"
      },
      "execution_count": null,
      "outputs": []
    },
    {
      "cell_type": "markdown",
      "source": [
        "# Factory design pattern\n",
        "\n",
        "**Used for separating creation from use.**\n",
        "\n",
        "Define a class Country that creates a class for speaking the language and a class for paying a specified amount as a currency of the country. \n",
        "Create the countries Italy, England, and USA.\n",
        "\n",
        "The script should work with the following main."
      ],
      "metadata": {
        "id": "F59Ey-lkms30"
      }
    },
    {
      "cell_type": "code",
      "source": [
        "for factory in [Italy(), England(), USA()]:\n",
        "    # retrieve the language and currency\n",
        "    language = factory.get_language()\n",
        "    currency = factory.get_currency()\n",
        "\n",
        "    language.speak()\n",
        "    currency.pay(20)\n"
      ],
      "metadata": {
        "id": "q2E-SaL8mX8Y"
      },
      "execution_count": null,
      "outputs": []
    }
  ]
}
